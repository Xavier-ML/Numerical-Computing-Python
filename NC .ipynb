{
 "cells": [
  {
   "cell_type": "markdown",
   "metadata": {},
   "source": [
    "## Range-Kutta Method (R.K)"
   ]
  },
  {
   "cell_type": "code",
   "execution_count": 20,
   "metadata": {},
   "outputs": [
    {
     "name": "stdout",
     "output_type": "stream",
     "text": [
      "Enter h: 0.2\n",
      "Enter y: -1\n",
      "i | xi      | yi       | k1       | k2       | k3       | k4       | yi+1    \n",
      "0 | 0.0     |       -1 | 0.2000   | 0.1840   | 0.1856   | 0.1789   | -0.8137 \n",
      "1 | 0.2     |  -0.8137 | 0.1787   | 0.1809   | 0.1807   | 0.1906   | -0.6316 \n",
      "2 | 0.4     |  -0.6316 | 0.1903   | 0.2073   | 0.2056   | 0.2292   | -0.4241 \n",
      "3 | 0.6     |  -0.4241 | 0.2288   | 0.2579   | 0.2550   | 0.2898   | -0.1667 \n"
     ]
    }
   ],
   "source": [
    "#----------------------------------R.K Method----------------------\n",
    "import math\n",
    "def fn(x,y):\n",
    "    #----------Enter your function here-------------\n",
    "    return (2*(x**2)) - y\n",
    "\n",
    "# ------ Formulas ------\n",
    "def k1(x,y,h):\n",
    "    return fn(x,y)*h\n",
    "def k2(x,y,h):\n",
    "    return fn(x+((1/2)*(h)), y+((1/2)*(k1(x,y,h))))*h             \n",
    "def k3(x,y,h):\n",
    "    return fn(x+((1/2)*(h)), y+((1/2)*(k2(x,y,h))))*h             \n",
    "def k4(x,y,h):\n",
    "    return fn(x+h, y+k3(x,y,h))*h\n",
    "def yi(x,y,h):\n",
    "    return y + ((1/6)*(k1(x,y,h)+(2*k2(x,y,h))+(2*k3(x,y,h))+k4(x,y,h)))\n",
    "#--------------------------\n",
    "h = eval(input(\"Enter h: \"))\n",
    "y = eval(input(\"Enter y: \"))\n",
    "x = 0\n",
    "fmt = \"{0:1} | {1:7} | {2:8} | {3:8} | {4:8} | {5:8} | {6:8} | {7:8}\"\n",
    "print(fmt.format(\"i\",\"xi\", \"yi\", \"k1\", \"k2\", \"k3\", \"k4\", \"yi+1\"))\n",
    "\n",
    "for i in range(0,4): #Adjust No.of iterations here.\n",
    "    \n",
    "    print(fmt.format(i, \"{0:.1f}\".format(x), y, \"{0:.4f}\".format(k1(x,y,h)), \"{0:.4f}\".format(k2(x,y,h)), \"{0:.4f}\".format(k3(x,y,h)), \"{0:.4f}\".format(k4(x,y,h)), \"{0:.4f}\".format(yi(x,y,h))))\n",
    "    y = eval(\"{0:.4f}\".format(yi(x,y,h)))\n",
    "    x += eval(\"{0:.1f}\".format(h))\n",
    "    "
   ]
  },
  {
   "cell_type": "markdown",
   "metadata": {},
   "source": [
    "## False Position Method"
   ]
  },
  {
   "cell_type": "code",
   "execution_count": 4,
   "metadata": {},
   "outputs": [
    {
     "name": "stdout",
     "output_type": "stream",
     "text": [
      "Enter x1: 0.5\n",
      "Enter x2: 2\n",
      "i | x1      | x2      | x3      | f(x3)\n",
      "0 | 0.5000  | 2.0000  | 1.6287  | 0.2756\n",
      "1 | 0.5000  | 1.6287  | 1.4970  | 0.1069\n",
      "2 | 0.5000  | 1.4970  | 1.4484  | 0.0409\n"
     ]
    }
   ],
   "source": [
    "#----------------------------------------------------FALSE-POSITION------------------------\n",
    "import math\n",
    "def fn(x):\n",
    "    #----------Enter your function here-------------\n",
    "    return (2 * math.log(x)) - 0.7\n",
    "\n",
    "# ------ Formulas ------\n",
    "def x3(x1,x2):\n",
    "    return x2 - (fn(x2) * ( (x1 - x2)/(fn(x1) - fn(x2)) ))\n",
    "def error(x3n,x3o):\n",
    "    return ((x3n - x3o) / x3n)*100\n",
    "#--------------------------\n",
    "\n",
    "x1 = eval(input(\"Enter x1: \"))\n",
    "x2 = eval(input(\"Enter x2: \"))\n",
    "x3_old = None\n",
    "i = 0\n",
    "n = True\n",
    "fmt = \"{0:1} | {1:7} | {2:7} | {3:7} | {4:4}\"\n",
    "print(fmt.format(\"i\", \"x1\", \"x2\", \"x3\", \"f(x3)\", \"Error\"))\n",
    "while(n):\n",
    "    if i == 0:\n",
    "        print(fmt.format(i, \"{0:.4f}\".format(x1), \"{0:.4f}\".format(x2), \"{0:.4f}\".format(x3(x1,x2)), \"{0:.4f}\".format(fn(eval(\"{0:.4f}\".format(x3(x1,x2))))), \"-\"))\n",
    "    else:\n",
    "        print(fmt.format(i, \"{0:.4f}\".format(x1), \"{0:.4f}\".format(x2), \"{0:.4f}\".format(x3(x1,x2)), \"{0:.4f}\".format(fn(eval(\"{0:.4f}\".format(x3(x1,x2))))), \"{0:.2f}\".format(error(eval(\"{0:.4f}\".format(x3(x1,x2))), x3_old))))\n",
    "\n",
    "#************** If you want to stop upon a certain condition, uncomment the next 2 lines, and comment the 2 lines after that **************\n",
    "#         if eval(\"{0:.2f}\".format(error(eval(\"{0:.4f}\".format(x3(x1,x2))), x3_old))) <= 1:\n",
    "#             n = False\n",
    "    \n",
    "#************** If you want to stop on a specific iteration, adjust it here **************\n",
    "        if i == 2: # Adjust No.of iterations here.\n",
    "            n = False\n",
    "    x3_old = eval(\"{0:.4f}\".format(x3(x1,x2)))\n",
    "    \n",
    "    if (fn(x1)>0 == True and fn(x3)>0 == True) or (fn(x1)<=0 == True and fn(x3)<= 0 == True):\n",
    "        x1 = eval(\"{0:.4f}\".format(x3(x1,x2)))\n",
    "    else:\n",
    "        x2 = eval(\"{0:.4f}\".format(x3(x1,x2)))\n",
    "    i += 1"
   ]
  },
  {
   "cell_type": "markdown",
   "metadata": {},
   "source": [
    "## Bisection Method"
   ]
  },
  {
   "cell_type": "code",
   "execution_count": 7,
   "metadata": {},
   "outputs": [
    {
     "name": "stdout",
     "output_type": "stream",
     "text": [
      "Enter x1: 1\n",
      "Enter x2: 3.2\n",
      "i | x1      | x2      | x3      | f(x3)   | f(x1)   | f(x3)(x1) | Error\n",
      "0 | 1.0000  | 3.2000  | 2.1000  | 1.7910  | 2.0000  | 3.5820  | -   \n",
      "1 | 2.1000  | 3.2000  | 2.6500  | 0.5521  | 1.7910  | 0.9888  | 20.75\n",
      "2 | 2.6500  | 3.2000  | 2.9250  | 0.0858  | 0.5521  | 0.0474  | 9.40\n",
      "3 | 2.9250  | 3.2000  | 3.0625  | -0.0544 | 0.0858  | -0.0047 | 4.49\n",
      "4 | 2.9250  | 3.0625  | 2.9937  | 0.0064  | 0.0858  | 0.0005  | -2.30\n"
     ]
    }
   ],
   "source": [
    "#----------------------------------------------------BISECTION METHOD------------------------\n",
    "import math\n",
    "def fn(x):\n",
    "    #----------Enter your function here-------------\n",
    "    return (x**3)-(7*(x**2)) + (14 * x) - 6\n",
    "\n",
    "# ------ Formulas ------\n",
    "def x3(x1,x2):\n",
    "    return (x1 + x2)/2\n",
    "def error(x3n,x3o):\n",
    "    return ((x3n - x3o) / x3n)*100\n",
    "#--------------------------\n",
    "\n",
    "x1 = eval(input(\"Enter x1: \"))\n",
    "x2 = eval(input(\"Enter x2: \"))\n",
    "x3_old = None\n",
    "i = 0\n",
    "n = True\n",
    "fmt = \"{0:1} | {1:7} | {2:7} | {3:7} | {4:7} | {5:7} | {6:7} | {7:4}\"\n",
    "print(fmt.format(\"i\", \"x1\", \"x2\", \"x3\", \"f(x3)\", \"f(x1)\", \"f(x3)(x1)\", \"Error\"))\n",
    "while(n):\n",
    "    fnx1x3 = eval(\"{0:.4f}\".format(fn(eval(\"{0:.4f}\".format(x3(x1,x2)))))) * eval(\"{0:.4f}\".format(fn(x1)))\n",
    "    if i == 0:\n",
    "        print(fmt.format(i, \"{0:.4f}\".format(x1), \"{0:.4f}\".format(x2), \"{0:.4f}\".format(x3(x1,x2)),\"{0:.4f}\".format(fn(eval(\"{0:.4f}\".format(x3(x1,x2))))), \"{0:.4f}\".format(fn(x1)), \"{0:.4f}\".format(fnx1x3) , \"-\"))\n",
    "    else:\n",
    "        print(fmt.format(i, \"{0:.4f}\".format(x1), \"{0:.4f}\".format(x2), \"{0:.4f}\".format(x3(x1,x2)), \"{0:.4f}\".format(fn(eval(\"{0:.4f}\".format(x3(x1,x2))))), \"{0:.4f}\".format(fn(x1)), \"{0:.4f}\".format(fnx1x3), \"{0:.2f}\".format(error(eval(\"{0:.4f}\".format(x3(x1,x2))), x3_old))))\n",
    "\n",
    "#************** If you want to stop upon a certain condition, uncomment the next 2 lines, and comment the 2 lines after that **************        \n",
    "#         if eval(\"{0:.2f}\".format(error(eval(\"{0:.4f}\".format(x3(x1,x2))), x3_old))) <= 1:\n",
    "#             n = False\n",
    "\n",
    "#************** If you want to stop on a specific iteration, adjust it here **************\n",
    "        if i == 4: # Adjust No.of iterations here.\n",
    "            n = False\n",
    "    x3_old = eval(\"{0:.4f}\".format(x3(x1,x2)))\n",
    "    \n",
    "    if fnx1x3 > 0 :\n",
    "        x1 = eval(\"{0:.4f}\".format(x3(x1,x2)))\n",
    "    else:\n",
    "        x2 = eval(\"{0:.4f}\".format(x3(x1,x2)))\n",
    "    i += 1"
   ]
  },
  {
   "cell_type": "markdown",
   "metadata": {},
   "source": [
    "## Newton Raphson "
   ]
  },
  {
   "cell_type": "code",
   "execution_count": 8,
   "metadata": {},
   "outputs": [
    {
     "name": "stdout",
     "output_type": "stream",
     "text": [
      "Enter x: 0.3\n",
      "i | xn      | f(xn)   | f'(xn)  | xn+1    | Error\n",
      "0 | 0.3000  | 0.5325  | 3.4216  | 0.1444  | --  \n",
      "1 | 0.1444  | -0.1281 | 5.1239  | 0.1694  | 0.0250\n",
      "2 | 0.1694  | -0.0038 | 4.8284  | 0.1702  | 0.0008\n"
     ]
    }
   ],
   "source": [
    "#---------------------------------------------------------NEWTON RAPHSON--------------------------\n",
    "import math\n",
    "def fn(x):\n",
    "    #----------Enter your function here-------------\n",
    "    return (7 * math.sin(x) * math.exp(-x))-1\n",
    "def der(x):\n",
    "    #----------Enter your function's derivative here-------------\n",
    "    return (7 * math.cos(x) * math.exp(-x)) -  (7 * math.sin(x) * math.exp(-x))\n",
    "\n",
    "# ------ Formulas ------\n",
    "def xn(x):\n",
    "    return x - (fn(x)/der(x))\n",
    "def error(xn, xo):\n",
    "    return xn - xo\n",
    "#--------------------------\n",
    "x_old = None\n",
    "x = eval(input(\"Enter x: \"))\n",
    "fmt = \"{0:1} | {1:7} | {2:7} | {3:7} | {4:7} | {5:4}\"\n",
    "print(fmt.format(\"i\", \"xn\", \"f(xn)\", \"f'(xn)\", \"xn+1\", \"Error\"))\n",
    "for i in range(0,3): # Adjust No.of iterations here.\n",
    "    if i == 0:\n",
    "        print(fmt.format(i, \"{0:.4f}\".format(x), \"{0:.4f}\".format(fn(x)), \"{0:.4f}\".format(der(x)), \"{0:.4f}\".format(xn(x)), \"--\"))\n",
    "    else:\n",
    "        print(fmt.format(i, \"{0:.4f}\".format(x), \"{0:.4f}\".format(fn(x)), \"{0:.4f}\".format(der(x)), \"{0:.4f}\".format(xn(x)), \"{0:.4f}\".format(error(eval(\"{0:.4f}\".format(xn(x))), x_old))))\n",
    "    x_old = eval(\"{0:.4f}\".format(xn(x)))\n",
    "    x = eval(\"{0:.4f}\".format(xn(x)))\n",
    "    "
   ]
  },
  {
   "cell_type": "markdown",
   "metadata": {},
   "source": [
    "## Secant Method"
   ]
  },
  {
   "cell_type": "code",
   "execution_count": 9,
   "metadata": {},
   "outputs": [
    {
     "name": "stdout",
     "output_type": "stream",
     "text": [
      "Enter x1: 0.4\n",
      "Enter x2: 0.5\n",
      "i | x1      | f(x1)   | x2      | f(X2)   | x3      | f(x3)  \n",
      "0 | 0.4000  | 0.8272  | 0.5000  | 1.0355  |  0.0028 | -9.8045e-01\n",
      "1 | 0.5000  | 1.0355  | 0.0028  | -0.9806 |  0.2446 | 3.2735e-01\n",
      "2 | 0.0028  | -0.9806 | 0.2446  | 0.3274  |  0.1841 | 6.5963e-02\n",
      "3 | 0.2446  | 0.3274  | 0.1841  | 0.0659  |  0.1688 | -6.6617e-03\n",
      "4 | 0.1841  | 0.0659  | 0.1688  | -0.0065 |  0.1702 | 9.6414e-05\n"
     ]
    }
   ],
   "source": [
    "#-------------------------------------------------------------SECANT METHOD--------------------------\n",
    "def fn(x):\n",
    "    #----------Enter your function here-------------\n",
    "    return (7 * math.sin(x) * math.exp(-x))-1\n",
    "def der(x):\n",
    "    #----------Enter your function's derivative here-------------\n",
    "    return (7 * math.cos(x) * math.exp(-x)) -  (7 * math.sin(x) * math.exp(-x))\n",
    "\n",
    "# ------ Formulas ------\n",
    "def x3(x1,x2):\n",
    "    return x2 - fn(x2) * (x1-x2)/(fn(x1)-fn(x2))\n",
    "#--------------------------\n",
    "x1 = eval(input(\"Enter x1: \"))\n",
    "x2 = eval(input(\"Enter x2: \"))\n",
    "fmt = \"{0:1} | {1:7} | {2:7} | {3:7} | {4:7} | {5:7} | {6:7}\"\n",
    "print(fmt.format(\"i\", \"x1\", \"f(x1)\", \"x2\", \"f(X2)\", \"x3\", \"f(x3)\"))\n",
    "for i in range(0,5): # Adjust No.of iterations here.\n",
    "    \n",
    "    x3_ = eval(\"{0:.4f}\".format(x3(x1,x2)))\n",
    "    print(fmt.format(i,\"{0:.4f}\".format(x1), \"{0:.4f}\".format(fn(x1)), \"{0:.4f}\".format(x2), \"{0:.4f}\".format(fn(x2)),x3_ , \"{0:.4e}\".format(fn(x3_))))\n",
    "    x1,x2 = x2,eval(\"{0:.4e}\".format(x3(x1,x2)))"
   ]
  },
  {
   "cell_type": "markdown",
   "metadata": {},
   "source": [
    "## Jacobi"
   ]
  },
  {
   "cell_type": "code",
   "execution_count": 13,
   "metadata": {},
   "outputs": [
    {
     "name": "stdout",
     "output_type": "stream",
     "text": [
      "i | x1      | x2      | X3      | E1      | E2      | E3     \n",
      "0 |       0 |       0 |       0 | -       | -       | -      \n",
      "1 |  1.8333 |  0.7143 |     0.2 | 100.00  | 100.00  | 100.00 \n",
      "2 |  2.0381 |  1.1809 |  0.8524 | 10.05   | 39.51   | 76.54  \n",
      "3 |  2.0849 |  1.0531 |    1.08 | 2.24    | -12.14  | 21.07  \n",
      "4 |  2.0044 |  1.0014 |  1.0382 | -4.02   | -5.16   | -4.03  \n"
     ]
    }
   ],
   "source": [
    "#------------------------------------------------------JACOBI------------------------------------\n",
    "def x1(x2,x3):\n",
    "    #----------Enter your x1 equation here-------------\n",
    "    return 1.8333 + (0.3333*x2) - (0.1666*x3)\n",
    "def x2(x1,x3):\n",
    "    #----------Enter your x2 equation here-------------\n",
    "    return 0.7143 + (0.2857 * x1) - (0.2857 * x3)\n",
    "def x3(x1,x2):\n",
    "    #----------Enter your x3 equation here-------------\n",
    "    return (0.2 * x1) + (0.4 * x2) + 0.2\n",
    "def error(n,o):\n",
    "    return ((n-o)/n) * 100\n",
    "xx1 = 0\n",
    "xx2 = 0\n",
    "xx3 = 0\n",
    "fmt = \"{0:1} | {1:7} | {2:7} | {3:7} | {4:7} | {5:7} | {6:7}\"\n",
    "print(fmt.format(\"i\", \"x1\", \"x2\", \"X3\", \"E1\", \"E2\", \"E3\"))\n",
    "for i in range(0,5): # Adjust No.of iterations here.\n",
    "    if i == 0:\n",
    "        print(fmt.format(i, xx1, xx2, xx3, \"-\", \"-\", \"-\" ))\n",
    "        one = xx1\n",
    "        two = xx2\n",
    "        three = xx3\n",
    "    else:\n",
    "        one = eval(\"{0:.4f}\".format(x1(xx2,xx3)))\n",
    "        two = eval(\"{0:.4f}\".format(x2(xx1,xx3)))\n",
    "        three =  eval(\"{0:.4f}\".format(x3(xx1,xx2)))\n",
    "        print(fmt.format(i, one, two,three , \"{0:.2f}\".format(error(one, xx1)), \"{0:.2f}\".format(error(two, xx2)), \"{0:.2f}\".format(error(three, xx3))))\n",
    "    xx1 = one\n",
    "    xx2 = two\n",
    "    xx3 = three\n",
    "    "
   ]
  },
  {
   "cell_type": "markdown",
   "metadata": {},
   "source": [
    "## Gauss Seidal"
   ]
  },
  {
   "cell_type": "code",
   "execution_count": 14,
   "metadata": {},
   "outputs": [
    {
     "name": "stdout",
     "output_type": "stream",
     "text": [
      "i | x1      | x2      | X3      | E1      | E2      | E3     \n",
      "0 |       0 |       0 |       0 | -       | -       | -      \n",
      "1 |  1.8333 |  1.2381 |  1.0619 | 100.00  | 100.00  | 100.00 \n",
      "2 |   2.069 |   1.002 |  1.0146 | 11.39   | -23.56  | -4.66  \n",
      "3 |  1.9982 |  0.9953 |  0.9978 | -3.54   | -0.67   | -1.68  \n",
      "4 |  1.9988 |  1.0003 |  0.9999 | 0.03    | 0.50    | 0.21   \n"
     ]
    }
   ],
   "source": [
    "#------------------------------------------------------GAUSS SEIDAL------------------------------------\n",
    "def x1(x2,x3):\n",
    "    #----------Enter your x1 equation here-------------\n",
    "    return 1.8333 + (0.3333*x2) - (0.1666*x3)\n",
    "def x2(x1,x3):\n",
    "    #----------Enter your x2 equation here-------------\n",
    "    return 0.7143 + (0.2857 * x1) - (0.2857 * x3)\n",
    "def x3(x1,x2):\n",
    "    #----------Enter your x3 equation here-------------\n",
    "    return (0.2 * x1) + (0.4 * x2) + 0.2\n",
    "def error(n,o):\n",
    "    return ((n-o)/n) * 100\n",
    "xx1 = 0\n",
    "xx2 = 0\n",
    "xx3 = 0\n",
    "fmt = \"{0:1} | {1:7} | {2:7} | {3:7} | {4:7} | {5:7} | {6:7}\"\n",
    "print(fmt.format(\"i\", \"x1\", \"x2\", \"X3\", \"E1\", \"E2\", \"E3\"))\n",
    "for i in range(0,5): # Adjust No.of iterations here.\n",
    "    if i == 0:\n",
    "        print(fmt.format(i, xx1, xx2, xx3, \"-\", \"-\", \"-\" ))\n",
    "        one = xx1\n",
    "        two = xx2\n",
    "        three = xx3\n",
    "    else:\n",
    "        one = eval(\"{0:.4f}\".format(x1(xx2,xx3)))\n",
    "        two = eval(\"{0:.4f}\".format(x2(one,xx3)))\n",
    "        three =  eval(\"{0:.4f}\".format(x3(one,two)))\n",
    "        print(fmt.format(i, one, two,three , \"{0:.2f}\".format(error(one, xx1)), \"{0:.2f}\".format(error(two, xx2)), \"{0:.2f}\".format(error(three, xx3))))\n",
    "    xx1 = one\n",
    "    xx2 = two\n",
    "    xx3 = three\n",
    "    "
   ]
  },
  {
   "cell_type": "markdown",
   "metadata": {},
   "source": [
    "## Modified Euler Method"
   ]
  },
  {
   "cell_type": "code",
   "execution_count": 19,
   "metadata": {},
   "outputs": [
    {
     "name": "stdout",
     "output_type": "stream",
     "text": [
      "Enter h: 0.5\n",
      "Enter y: 2\n",
      "Enter x: 0\n",
      "i | xi      | yi      | f(xi,yi)   | Euler      | xi+1    | f(xi+1, yi+1)   | M.Euler\n",
      "0 |       0 |       2 |        3.0 |        3.5 |     0.5 |          4.2173 |  3.8043\n",
      "1 |     0.5 |  3.8043 |     4.0651 |     5.8369 |     1.0 |          5.9837 |  6.3165\n",
      "2 |     1.0 |  6.3165 |     5.7439 |     9.1885 |     1.5 |          8.6862 |   9.924\n",
      "3 |     1.5 |   9.924 |     8.3185 |    14.0832 |     2.0 |         12.7705 | 15.1962\n",
      "4 |     2.0 | 15.1962 |     12.214 |    21.3032 |     2.5 |         18.9046 | 22.9759\n",
      "5 |     2.5 | 22.9759 |    18.0683 |      32.01 |     3.0 |         28.0877 | 34.5149\n",
      "6 |     3.0 | 34.5149 |    26.8353 |    47.9325 |     3.5 |         41.8123 | 51.6768\n",
      "7 |     3.5 | 51.6768 |    39.9402 |    71.6469 |     4.0 |         62.3067 | 77.2385\n"
     ]
    }
   ],
   "source": [
    "#-----------------------------------------------------------MODIFIED EULER--------------------------\n",
    "def fn(x,y):\n",
    "    #----------Enter your function here-------------\n",
    "    return (4 * math.exp(0.8 * x) ) - (0.5 * y)\n",
    "\n",
    "#-------------FORMULAS-----------------\n",
    "def euler(x,y,h):\n",
    "    return y + (fn(x,y) * h)\n",
    "def mEuler(f1,f2,y,h):\n",
    "    return y + (((f1 + f2)/2) * h)\n",
    "#--------------------------\n",
    "\n",
    "h = eval(input(\"Enter h: \"))\n",
    "y = eval(input(\"Enter y: \"))\n",
    "x = eval(input(\"Enter x: \"))\n",
    "\n",
    "fmt = \"{0:1} | {1:7} | {2:7} | {3:10} | {4:10} | {5:7} | {6:15} | {7:7}\"\n",
    "print(fmt.format(\"i\", \"xi\", \"yi\", \"f(xi,yi)\",\"Euler\", \"xi+1\", \"f(xi+1, yi+1)\", \"M.Euler\"))\n",
    "for i in range(0,8): # Adjust No.of iterations here.  \n",
    "    \n",
    "    f = eval(\"{0:.4f}\".format(fn(x,y)))\n",
    "    ey = eval(\"{0:.4f}\".format(euler(x,y,h)))\n",
    "    ff = eval(\"{0:.4f}\".format(fn(x+h, ey)))\n",
    "    Mey = eval(\"{0:.4f}\".format(mEuler(f, ff, y, h)))\n",
    "    print(fmt.format(i, x, y, f, ey, x+h, ff,  Mey))\n",
    "    x += h\n",
    "    y = Mey"
   ]
  },
  {
   "cell_type": "code",
   "execution_count": null,
   "metadata": {},
   "outputs": [],
   "source": []
  }
 ],
 "metadata": {
  "kernelspec": {
   "display_name": "Python 3",
   "language": "python",
   "name": "python3"
  },
  "language_info": {
   "codemirror_mode": {
    "name": "ipython",
    "version": 3
   },
   "file_extension": ".py",
   "mimetype": "text/x-python",
   "name": "python",
   "nbconvert_exporter": "python",
   "pygments_lexer": "ipython3",
   "version": "3.7.6"
  }
 },
 "nbformat": 4,
 "nbformat_minor": 4
}
